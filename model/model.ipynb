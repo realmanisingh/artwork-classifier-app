{
 "cells": [
  {
   "cell_type": "code",
   "execution_count": 5,
   "metadata": {},
   "outputs": [],
   "source": [
    "import numpy as np\n",
    "import matplotlib.pyplot as plt\n",
    "import tensorflow as tf\n",
    "from tensorflow.keras.preprocessing import image_dataset_from_directory\n",
    "import os"
   ]
  },
  {
   "cell_type": "code",
   "execution_count": 7,
   "metadata": {},
   "outputs": [
    {
     "output_type": "execute_result",
     "data": {
      "text/plain": "'/Users/mani/Desktop/artwork-classifier-app/model'"
     },
     "metadata": {},
     "execution_count": 7
    }
   ],
   "source": [
    "os.getcwd()"
   ]
  },
  {
   "cell_type": "code",
   "execution_count": null,
   "metadata": {},
   "outputs": [],
   "source": [
    "# Creating a training and test set from the images\n",
    "\n",
    "# Directory where the data is stored\n",
    "data_dir = \"../data\"\n",
    "\n",
    "# Defining parameters of the image loader\n",
    "batch_size = 16\n",
    "img_height = 160\n",
    "img_width = 160\n",
    "\n",
    "# Creating the data loader for the training set\n",
    "training_data = image_dataset_from_directory(\n",
    "    directory=data_dir,\n",
    "    validation_split=0.2,\n",
    "    subset='training',\n",
    "    seed=98,\n",
    "    batch_size=batch_size,\n",
    "    image_size=(img_height, img_width)\n",
    ")\n"
   ]
  }
 ],
 "metadata": {
  "kernelspec": {
   "display_name": "Python 3.7.6 64-bit ('base': conda)",
   "language": "python",
   "name": "python_defaultSpec_1598306821495"
  },
  "language_info": {
   "codemirror_mode": {
    "name": "ipython",
    "version": 3
   },
   "file_extension": ".py",
   "mimetype": "text/x-python",
   "name": "python",
   "nbconvert_exporter": "python",
   "pygments_lexer": "ipython3",
   "version": "3.7.6-final"
  }
 },
 "nbformat": 4,
 "nbformat_minor": 4
}